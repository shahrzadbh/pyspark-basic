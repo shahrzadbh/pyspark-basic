{
 "cells": [
  {
   "cell_type": "code",
   "execution_count": 38,
   "id": "00870ccc",
   "metadata": {},
   "outputs": [],
   "source": [
    "from pyspark.sql import SparkSession\n",
    "spark=SparkSession.builder.appName('Practise').getOrCreate()"
   ]
  },
  {
   "cell_type": "code",
   "execution_count": 39,
   "id": "e64955c1",
   "metadata": {},
   "outputs": [],
   "source": [
    "df_pyspark=spark.read.csv('/Users/macbookpro/Desktop/Pyspark-With-Python-main/test2_example.csv',header=True,inferSchema=True)"
   ]
  },
  {
   "cell_type": "code",
   "execution_count": 40,
   "id": "7456086f",
   "metadata": {},
   "outputs": [
    {
     "name": "stdout",
     "output_type": "stream",
     "text": [
      "+-----+----+----------+------+\n",
      "| Name| age|Experience|Salary|\n",
      "+-----+----+----------+------+\n",
      "|mahsa|  31|        10| 30000|\n",
      "| sara|  30|         8| 25000|\n",
      "| mina|  29|         4| 20000|\n",
      "|sahar|  24|         3| 20000|\n",
      "| homa|  21|         1| 15000|\n",
      "|shima|  23|         2| 18000|\n",
      "| sima|null|      null| 40000|\n",
      "| null|  34|        10| 38000|\n",
      "| null|  36|      null|  null|\n",
      "+-----+----+----------+------+\n",
      "\n"
     ]
    }
   ],
   "source": [
    "df_pyspark.show()"
   ]
  },
  {
   "cell_type": "code",
   "execution_count": 41,
   "id": "a690f41f",
   "metadata": {},
   "outputs": [
    {
     "name": "stdout",
     "output_type": "stream",
     "text": [
      "root\n",
      " |-- Name: string (nullable = true)\n",
      " |-- age: integer (nullable = true)\n",
      " |-- Experience: integer (nullable = true)\n",
      " |-- Salary: integer (nullable = true)\n",
      "\n"
     ]
    }
   ],
   "source": [
    "df_pyspark.printSchema()"
   ]
  },
  {
   "cell_type": "code",
   "execution_count": 42,
   "id": "e3cebff8",
   "metadata": {},
   "outputs": [
    {
     "name": "stdout",
     "output_type": "stream",
     "text": [
      "+----+----------+------+\n",
      "| age|Experience|Salary|\n",
      "+----+----------+------+\n",
      "|  31|        10| 30000|\n",
      "|  30|         8| 25000|\n",
      "|  29|         4| 20000|\n",
      "|  24|         3| 20000|\n",
      "|  21|         1| 15000|\n",
      "|  23|         2| 18000|\n",
      "|null|      null| 40000|\n",
      "|  34|        10| 38000|\n",
      "|  36|      null|  null|\n",
      "+----+----------+------+\n",
      "\n"
     ]
    }
   ],
   "source": [
    "df_pyspark.drop('Name').show()"
   ]
  },
  {
   "cell_type": "code",
   "execution_count": 43,
   "id": "ed778a9a",
   "metadata": {},
   "outputs": [
    {
     "name": "stdout",
     "output_type": "stream",
     "text": [
      "+-----+----+----------+------+\n",
      "| Name| age|Experience|Salary|\n",
      "+-----+----+----------+------+\n",
      "|mahsa|  31|        10| 30000|\n",
      "| sara|  30|         8| 25000|\n",
      "| mina|  29|         4| 20000|\n",
      "|sahar|  24|         3| 20000|\n",
      "| homa|  21|         1| 15000|\n",
      "|shima|  23|         2| 18000|\n",
      "| sima|null|      null| 40000|\n",
      "| null|  34|        10| 38000|\n",
      "| null|  36|      null|  null|\n",
      "+-----+----+----------+------+\n",
      "\n"
     ]
    }
   ],
   "source": [
    "df_pyspark.show()"
   ]
  },
  {
   "cell_type": "code",
   "execution_count": 44,
   "id": "4d46035c",
   "metadata": {},
   "outputs": [
    {
     "name": "stdout",
     "output_type": "stream",
     "text": [
      "+-----+---+----------+------+\n",
      "| Name|age|Experience|Salary|\n",
      "+-----+---+----------+------+\n",
      "|mahsa| 31|        10| 30000|\n",
      "| sara| 30|         8| 25000|\n",
      "| mina| 29|         4| 20000|\n",
      "|sahar| 24|         3| 20000|\n",
      "| homa| 21|         1| 15000|\n",
      "|shima| 23|         2| 18000|\n",
      "+-----+---+----------+------+\n",
      "\n"
     ]
    }
   ],
   "source": [
    "df_pyspark.na.drop().show()"
   ]
  },
  {
   "cell_type": "code",
   "execution_count": 45,
   "id": "6dcf2b93",
   "metadata": {},
   "outputs": [
    {
     "name": "stdout",
     "output_type": "stream",
     "text": [
      "+-----+---+----------+------+\n",
      "| Name|age|Experience|Salary|\n",
      "+-----+---+----------+------+\n",
      "|mahsa| 31|        10| 30000|\n",
      "| sara| 30|         8| 25000|\n",
      "| mina| 29|         4| 20000|\n",
      "|sahar| 24|         3| 20000|\n",
      "| homa| 21|         1| 15000|\n",
      "|shima| 23|         2| 18000|\n",
      "+-----+---+----------+------+\n",
      "\n"
     ]
    }
   ],
   "source": [
    "df_pyspark.dropna().show()"
   ]
  },
  {
   "cell_type": "code",
   "execution_count": 46,
   "id": "3a53a8bd",
   "metadata": {},
   "outputs": [
    {
     "name": "stdout",
     "output_type": "stream",
     "text": [
      "+-----+---+----------+------+\n",
      "| Name|age|Experience|Salary|\n",
      "+-----+---+----------+------+\n",
      "|mahsa| 31|        10| 30000|\n",
      "| sara| 30|         8| 25000|\n",
      "| mina| 29|         4| 20000|\n",
      "|sahar| 24|         3| 20000|\n",
      "| homa| 21|         1| 15000|\n",
      "|shima| 23|         2| 18000|\n",
      "+-----+---+----------+------+\n",
      "\n"
     ]
    }
   ],
   "source": [
    "#how=any --> drop row that there is null -->by default\n",
    "#‘any’ or ‘all’. If ‘any’, drop a row if it contains any nulls. If ‘all’, drop a row only if all its values are null.\n",
    "df_pyspark.na.drop(how=\"any\").show()"
   ]
  },
  {
   "cell_type": "code",
   "execution_count": 47,
   "id": "f21ba783",
   "metadata": {},
   "outputs": [
    {
     "name": "stdout",
     "output_type": "stream",
     "text": [
      "+-----+----+----------+------+\n",
      "| Name| age|Experience|Salary|\n",
      "+-----+----+----------+------+\n",
      "|mahsa|  31|        10| 30000|\n",
      "| sara|  30|         8| 25000|\n",
      "| mina|  29|         4| 20000|\n",
      "|sahar|  24|         3| 20000|\n",
      "| homa|  21|         1| 15000|\n",
      "|shima|  23|         2| 18000|\n",
      "| sima|null|      null| 40000|\n",
      "| null|  34|        10| 38000|\n",
      "| null|  36|      null|  null|\n",
      "+-----+----+----------+------+\n",
      "\n"
     ]
    }
   ],
   "source": [
    "#how=\"all\" --> drop row that all null\n",
    "df_pyspark.na.drop(how=\"all\").show()"
   ]
  },
  {
   "cell_type": "code",
   "execution_count": 48,
   "id": "7769e3cb",
   "metadata": {},
   "outputs": [
    {
     "name": "stdout",
     "output_type": "stream",
     "text": [
      "+-----+---+----------+------+\n",
      "| Name|age|Experience|Salary|\n",
      "+-----+---+----------+------+\n",
      "|mahsa| 31|        10| 30000|\n",
      "| sara| 30|         8| 25000|\n",
      "| mina| 29|         4| 20000|\n",
      "|sahar| 24|         3| 20000|\n",
      "| homa| 21|         1| 15000|\n",
      "|shima| 23|         2| 18000|\n",
      "| null| 34|        10| 38000|\n",
      "+-----+---+----------+------+\n",
      "\n"
     ]
    }
   ],
   "source": [
    "#threshold  \n",
    "df_pyspark.na.drop(how=\"any\",thresh=3).show()"
   ]
  },
  {
   "cell_type": "code",
   "execution_count": 49,
   "id": "07fd3674",
   "metadata": {},
   "outputs": [
    {
     "name": "stdout",
     "output_type": "stream",
     "text": [
      "+-----+----+----------+------+\n",
      "| Name| age|Experience|Salary|\n",
      "+-----+----+----------+------+\n",
      "|mahsa|  31|        10| 30000|\n",
      "| sara|  30|         8| 25000|\n",
      "| mina|  29|         4| 20000|\n",
      "|sahar|  24|         3| 20000|\n",
      "| homa|  21|         1| 15000|\n",
      "|shima|  23|         2| 18000|\n",
      "| sima|null|      null| 40000|\n",
      "| null|  34|        10| 38000|\n",
      "+-----+----+----------+------+\n",
      "\n"
     ]
    }
   ],
   "source": [
    "#drop row that two non null-value\n",
    "#default None If specified, drop rows that have less than thresh non-null values.\n",
    "df_pyspark.na.drop(how=\"any\",thresh=2).show()"
   ]
  },
  {
   "cell_type": "code",
   "execution_count": 50,
   "id": "fce34944",
   "metadata": {},
   "outputs": [
    {
     "name": "stdout",
     "output_type": "stream",
     "text": [
      "+-----+----+----------+------+\n",
      "| Name| age|Experience|Salary|\n",
      "+-----+----+----------+------+\n",
      "|mahsa|  31|        10| 30000|\n",
      "| sara|  30|         8| 25000|\n",
      "| mina|  29|         4| 20000|\n",
      "|sahar|  24|         3| 20000|\n",
      "| homa|  21|         1| 15000|\n",
      "|shima|  23|         2| 18000|\n",
      "| sima|null|      null| 40000|\n",
      "| null|  34|        10| 38000|\n",
      "| null|  36|      null|  null|\n",
      "+-----+----+----------+------+\n",
      "\n"
     ]
    }
   ],
   "source": [
    "df_pyspark.na.drop(how=\"any\",thresh=1).show()"
   ]
  },
  {
   "cell_type": "code",
   "execution_count": 51,
   "id": "a5b6f089",
   "metadata": {},
   "outputs": [
    {
     "name": "stdout",
     "output_type": "stream",
     "text": [
      "+-----+---+----------+------+\n",
      "| Name|age|Experience|Salary|\n",
      "+-----+---+----------+------+\n",
      "|mahsa| 31|        10| 30000|\n",
      "| sara| 30|         8| 25000|\n",
      "| mina| 29|         4| 20000|\n",
      "|sahar| 24|         3| 20000|\n",
      "| homa| 21|         1| 15000|\n",
      "|shima| 23|         2| 18000|\n",
      "| null| 34|        10| 38000|\n",
      "| null| 36|      null|  null|\n",
      "+-----+---+----------+------+\n",
      "\n"
     ]
    }
   ],
   "source": [
    "#Subset\n",
    "#optional list of column names to consider.\n",
    "df_pyspark.na.drop(how=\"any\",subset=['Age']).show()"
   ]
  },
  {
   "cell_type": "code",
   "execution_count": 60,
   "id": "8e6f16d8",
   "metadata": {},
   "outputs": [
    {
     "name": "stdout",
     "output_type": "stream",
     "text": [
      "+-----+----+----------+------+\n",
      "| Name| age|Experience|Salary|\n",
      "+-----+----+----------+------+\n",
      "|mahsa|  31|        10| 30000|\n",
      "| sara|  30|         8| 25000|\n",
      "| mina|  29|         4| 20000|\n",
      "|sahar|  24|         3| 20000|\n",
      "| homa|  21|         1| 15000|\n",
      "|shima|  23|         2| 18000|\n",
      "| sima|null|      null| 40000|\n",
      "| null|  34|        10| 38000|\n",
      "| null|  36|      null|  null|\n",
      "+-----+----+----------+------+\n",
      "\n"
     ]
    }
   ],
   "source": [
    "df_pyspark.show()"
   ]
  },
  {
   "cell_type": "code",
   "execution_count": 68,
   "id": "7bec6a30",
   "metadata": {},
   "outputs": [
    {
     "name": "stdout",
     "output_type": "stream",
     "text": [
      "+-----+---+----------+------+\n",
      "| Name|age|Experience|Salary|\n",
      "+-----+---+----------+------+\n",
      "|mahsa| 31|        10| 30000|\n",
      "| sara| 30|         8| 25000|\n",
      "| mina| 29|         4| 20000|\n",
      "|sahar| 24|         3| 20000|\n",
      "| homa| 21|         1| 15000|\n",
      "|shima| 23|         2| 18000|\n",
      "| sima|  0|      null| 40000|\n",
      "| null| 34|        10| 38000|\n",
      "| null| 36|      null|  null|\n",
      "+-----+---+----------+------+\n",
      "\n"
     ]
    }
   ],
   "source": [
    "#Filling the Missing Value\n",
    "#df_pyspark.na.fill('Missing Values',['age']).show()\n",
    "df_pyspark.na.fill(value=0,subset=[\"age\"]).show()\n"
   ]
  },
  {
   "cell_type": "code",
   "execution_count": 69,
   "id": "6baa3d8e",
   "metadata": {},
   "outputs": [
    {
     "name": "stdout",
     "output_type": "stream",
     "text": [
      "+-----+---+----------+------+\n",
      "| Name|age|Experience|Salary|\n",
      "+-----+---+----------+------+\n",
      "|mahsa| 31|        10| 30000|\n",
      "| sara| 30|         8| 25000|\n",
      "| mina| 29|         4| 20000|\n",
      "|sahar| 24|         3| 20000|\n",
      "| homa| 21|         1| 15000|\n",
      "|shima| 23|         2| 18000|\n",
      "| sima|  0|         0| 40000|\n",
      "| null| 34|        10| 38000|\n",
      "| null| 36|         0|     0|\n",
      "+-----+---+----------+------+\n",
      "\n"
     ]
    }
   ],
   "source": [
    "#Replace 0 for null for all integer columns\n",
    "df_pyspark.na.fill(value=0).show()\n"
   ]
  },
  {
   "cell_type": "code",
   "execution_count": 73,
   "id": "5396a8ed",
   "metadata": {},
   "outputs": [
    {
     "name": "stdout",
     "output_type": "stream",
     "text": [
      "+-------+----+----------+------+\n",
      "|   Name| age|Experience|Salary|\n",
      "+-------+----+----------+------+\n",
      "|  mahsa|  31|        10| 30000|\n",
      "|   sara|  30|         8| 25000|\n",
      "|   mina|  29|         4| 20000|\n",
      "|  sahar|  24|         3| 20000|\n",
      "|   homa|  21|         1| 15000|\n",
      "|  shima|  23|         2| 18000|\n",
      "|   sima|null|      null| 40000|\n",
      "|unknown|  34|        10| 38000|\n",
      "|unknown|  36|      null|  null|\n",
      "+-------+----+----------+------+\n",
      "\n"
     ]
    }
   ],
   "source": [
    "#column name with value “unknown\n",
    "df_pyspark.na.fill(\"unknown\",['name']).show()"
   ]
  },
  {
   "cell_type": "code",
   "execution_count": 74,
   "id": "a13c7d29",
   "metadata": {},
   "outputs": [],
   "source": [
    "from pyspark.ml.feature import Imputer\n",
    "\n",
    "imputer = Imputer(\n",
    "    inputCols=['age', 'Experience', 'Salary'], \n",
    "    outputCols=[\"{}_imputed\".format(c) for c in ['age', 'Experience', 'Salary']]\n",
    "    ).setStrategy(\"median\")"
   ]
  },
  {
   "cell_type": "code",
   "execution_count": 75,
   "id": "442788f9",
   "metadata": {},
   "outputs": [
    {
     "name": "stdout",
     "output_type": "stream",
     "text": [
      "+-----+----+----------+------+-----------+------------------+--------------+\n",
      "| Name| age|Experience|Salary|age_imputed|Experience_imputed|Salary_imputed|\n",
      "+-----+----+----------+------+-----------+------------------+--------------+\n",
      "|mahsa|  31|        10| 30000|         31|                10|         30000|\n",
      "| sara|  30|         8| 25000|         30|                 8|         25000|\n",
      "| mina|  29|         4| 20000|         29|                 4|         20000|\n",
      "|sahar|  24|         3| 20000|         24|                 3|         20000|\n",
      "| homa|  21|         1| 15000|         21|                 1|         15000|\n",
      "|shima|  23|         2| 18000|         23|                 2|         18000|\n",
      "| sima|null|      null| 40000|         29|                 4|         40000|\n",
      "| null|  34|        10| 38000|         34|                10|         38000|\n",
      "| null|  36|      null|  null|         36|                 4|         20000|\n",
      "+-----+----+----------+------+-----------+------------------+--------------+\n",
      "\n"
     ]
    }
   ],
   "source": [
    "# Add imputation cols to df\n",
    "imputer.fit(df_pyspark).transform(df_pyspark).show()"
   ]
  },
  {
   "cell_type": "code",
   "execution_count": null,
   "id": "d33c63da",
   "metadata": {},
   "outputs": [],
   "source": []
  }
 ],
 "metadata": {
  "kernelspec": {
   "display_name": "Python 3 (ipykernel)",
   "language": "python",
   "name": "python3"
  },
  "language_info": {
   "codemirror_mode": {
    "name": "ipython",
    "version": 3
   },
   "file_extension": ".py",
   "mimetype": "text/x-python",
   "name": "python",
   "nbconvert_exporter": "python",
   "pygments_lexer": "ipython3",
   "version": "3.10.2"
  }
 },
 "nbformat": 4,
 "nbformat_minor": 5
}
