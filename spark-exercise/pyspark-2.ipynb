{
 "cells": [
  {
   "cell_type": "code",
   "execution_count": 81,
   "id": "e240020c",
   "metadata": {},
   "outputs": [],
   "source": [
    "from pyspark.sql import SparkSession"
   ]
  },
  {
   "cell_type": "code",
   "execution_count": 82,
   "id": "1863d9c1",
   "metadata": {},
   "outputs": [],
   "source": [
    "spark=SparkSession.builder.appName('Dataframe').getOrCreate()"
   ]
  },
  {
   "cell_type": "code",
   "execution_count": 83,
   "id": "6c538363",
   "metadata": {},
   "outputs": [
    {
     "data": {
      "text/html": [
       "\n",
       "            <div>\n",
       "                <p><b>SparkSession - in-memory</b></p>\n",
       "                \n",
       "        <div>\n",
       "            <p><b>SparkContext</b></p>\n",
       "\n",
       "            <p><a href=\"http://192.168.1.33:4042\">Spark UI</a></p>\n",
       "\n",
       "            <dl>\n",
       "              <dt>Version</dt>\n",
       "                <dd><code>v3.3.0</code></dd>\n",
       "              <dt>Master</dt>\n",
       "                <dd><code>local[*]</code></dd>\n",
       "              <dt>AppName</dt>\n",
       "                <dd><code>Dataframe</code></dd>\n",
       "            </dl>\n",
       "        </div>\n",
       "        \n",
       "            </div>\n",
       "        "
      ],
      "text/plain": [
       "<pyspark.sql.session.SparkSession at 0x107541db0>"
      ]
     },
     "execution_count": 83,
     "metadata": {},
     "output_type": "execute_result"
    }
   ],
   "source": [
    "spark"
   ]
  },
  {
   "cell_type": "code",
   "execution_count": 84,
   "id": "b6c50b8d",
   "metadata": {},
   "outputs": [],
   "source": [
    "#read the dataset\n",
    "df_pyspark=spark.read.option('header','true').csv('/Users/macbookpro/Desktop/Pyspark-With-Python-main/test1_example.csv')"
   ]
  },
  {
   "cell_type": "code",
   "execution_count": 85,
   "id": "9fe2f7b8",
   "metadata": {},
   "outputs": [
    {
     "data": {
      "text/plain": [
       "DataFrame[Name: string, age: string, Experience: string, Salary: string]"
      ]
     },
     "execution_count": 85,
     "metadata": {},
     "output_type": "execute_result"
    }
   ],
   "source": [
    "df_pyspark"
   ]
  },
  {
   "cell_type": "code",
   "execution_count": 86,
   "id": "683756c9",
   "metadata": {},
   "outputs": [
    {
     "name": "stdout",
     "output_type": "stream",
     "text": [
      "root\n",
      " |-- Name: string (nullable = true)\n",
      " |-- age: string (nullable = true)\n",
      " |-- Experience: string (nullable = true)\n",
      " |-- Salary: string (nullable = true)\n",
      "\n"
     ]
    }
   ],
   "source": [
    "#Check the schema(datatypes)\n",
    "df_pyspark.printSchema()"
   ]
  },
  {
   "cell_type": "code",
   "execution_count": 87,
   "id": "76c659e2",
   "metadata": {},
   "outputs": [
    {
     "name": "stdout",
     "output_type": "stream",
     "text": [
      "+-------+---+----------+------+\n",
      "|   Name|age|Experience|Salary|\n",
      "+-------+---+----------+------+\n",
      "|  mahsa| 31|        10| 30000|\n",
      "|   sara| 30|         8| 25000|\n",
      "| hanieh| 29|         4| 20000|\n",
      "|  atefe| 24|         3| 20000|\n",
      "|shabnam| 21|         1| 15000|\n",
      "| bahare| 23|         2| 18000|\n",
      "+-------+---+----------+------+\n",
      "\n"
     ]
    }
   ],
   "source": [
    "df_pyspark.show()"
   ]
  },
  {
   "cell_type": "code",
   "execution_count": 88,
   "id": "eba1380f",
   "metadata": {},
   "outputs": [],
   "source": [
    "#add inferSchema=True for type\n",
    "df_pyspark=spark.read.option('header','true').csv('/Users/macbookpro/Desktop/Pyspark-With-Python-main/test1_example.csv',inferSchema=True)"
   ]
  },
  {
   "cell_type": "code",
   "execution_count": 89,
   "id": "166e6dc1",
   "metadata": {},
   "outputs": [
    {
     "name": "stdout",
     "output_type": "stream",
     "text": [
      "root\n",
      " |-- Name: string (nullable = true)\n",
      " |-- age: integer (nullable = true)\n",
      " |-- Experience: integer (nullable = true)\n",
      " |-- Salary: integer (nullable = true)\n",
      "\n"
     ]
    }
   ],
   "source": [
    "df_pyspark.printSchema()"
   ]
  },
  {
   "cell_type": "code",
   "execution_count": 90,
   "id": "8d4dffc9",
   "metadata": {},
   "outputs": [
    {
     "data": {
      "text/plain": [
       "pyspark.sql.dataframe.DataFrame"
      ]
     },
     "execution_count": 90,
     "metadata": {},
     "output_type": "execute_result"
    }
   ],
   "source": [
    "type(df_pyspark)"
   ]
  },
  {
   "cell_type": "markdown",
   "id": "415f5b85",
   "metadata": {},
   "source": [
    "#### Selecting Columns And Indexing"
   ]
  },
  {
   "cell_type": "code",
   "execution_count": 91,
   "id": "ca72549f",
   "metadata": {},
   "outputs": [
    {
     "data": {
      "text/plain": [
       "['Name', 'age', 'Experience', 'Salary']"
      ]
     },
     "execution_count": 91,
     "metadata": {},
     "output_type": "execute_result"
    }
   ],
   "source": [
    "df_pyspark.columns"
   ]
  },
  {
   "cell_type": "code",
   "execution_count": 92,
   "id": "199c38fe",
   "metadata": {},
   "outputs": [
    {
     "data": {
      "text/plain": [
       "<bound method DataFrame.head of DataFrame[Name: string, age: int, Experience: int, Salary: int]>"
      ]
     },
     "execution_count": 92,
     "metadata": {},
     "output_type": "execute_result"
    }
   ],
   "source": [
    "df_pyspark.head"
   ]
  },
  {
   "cell_type": "code",
   "execution_count": 93,
   "id": "42600ec8",
   "metadata": {},
   "outputs": [
    {
     "data": {
      "text/plain": [
       "[Row(Name='mahsa', age=31, Experience=10, Salary=30000),\n",
       " Row(Name='sara', age=30, Experience=8, Salary=25000),\n",
       " Row(Name='hanieh', age=29, Experience=4, Salary=20000),\n",
       " Row(Name='atefe', age=24, Experience=3, Salary=20000)]"
      ]
     },
     "execution_count": 93,
     "metadata": {},
     "output_type": "execute_result"
    }
   ],
   "source": [
    "df_pyspark.head(4)"
   ]
  },
  {
   "cell_type": "code",
   "execution_count": 94,
   "id": "b7ca9829",
   "metadata": {},
   "outputs": [
    {
     "data": {
      "text/plain": [
       "DataFrame[Name: string]"
      ]
     },
     "execution_count": 94,
     "metadata": {},
     "output_type": "execute_result"
    }
   ],
   "source": [
    "df_pyspark.select('Name')"
   ]
  },
  {
   "cell_type": "code",
   "execution_count": 95,
   "id": "f40fcc68",
   "metadata": {},
   "outputs": [
    {
     "data": {
      "text/plain": [
       "DataFrame[Name: string, Experience: int]"
      ]
     },
     "execution_count": 95,
     "metadata": {},
     "output_type": "execute_result"
    }
   ],
   "source": [
    "df_pyspark.select(['Name','Experience']) "
   ]
  },
  {
   "cell_type": "code",
   "execution_count": 96,
   "id": "1aea2d92",
   "metadata": {},
   "outputs": [
    {
     "name": "stdout",
     "output_type": "stream",
     "text": [
      "+-------+\n",
      "|   Name|\n",
      "+-------+\n",
      "|  mahsa|\n",
      "|   sara|\n",
      "| hanieh|\n",
      "|  atefe|\n",
      "|shabnam|\n",
      "| bahare|\n",
      "+-------+\n",
      "\n"
     ]
    }
   ],
   "source": [
    "df_pyspark.select('Name').show()"
   ]
  },
  {
   "cell_type": "code",
   "execution_count": 97,
   "id": "e3fcd134",
   "metadata": {},
   "outputs": [
    {
     "name": "stdout",
     "output_type": "stream",
     "text": [
      "+-------+----------+\n",
      "|   Name|Experience|\n",
      "+-------+----------+\n",
      "|  mahsa|        10|\n",
      "|   sara|         8|\n",
      "| hanieh|         4|\n",
      "|  atefe|         3|\n",
      "|shabnam|         1|\n",
      "| bahare|         2|\n",
      "+-------+----------+\n",
      "\n"
     ]
    }
   ],
   "source": [
    "#for slicing columns\n",
    "df_pyspark.select(['Name','Experience']).show()"
   ]
  },
  {
   "cell_type": "code",
   "execution_count": 98,
   "id": "db912e3d",
   "metadata": {},
   "outputs": [
    {
     "data": {
      "text/plain": [
       "pyspark.sql.dataframe.DataFrame"
      ]
     },
     "execution_count": 98,
     "metadata": {},
     "output_type": "execute_result"
    }
   ],
   "source": [
    "type (df_pyspark.select(['Name','Experience']))"
   ]
  },
  {
   "cell_type": "code",
   "execution_count": 99,
   "id": "4520a34e",
   "metadata": {},
   "outputs": [
    {
     "data": {
      "text/plain": [
       "Column<'name'>"
      ]
     },
     "execution_count": 99,
     "metadata": {},
     "output_type": "execute_result"
    }
   ],
   "source": [
    "df_pyspark['name']\n",
    "#df_pyspark['Experience']"
   ]
  },
  {
   "cell_type": "code",
   "execution_count": 100,
   "id": "6fd009af",
   "metadata": {},
   "outputs": [
    {
     "data": {
      "text/plain": [
       "[('Name', 'string'), ('age', 'int'), ('Experience', 'int'), ('Salary', 'int')]"
      ]
     },
     "execution_count": 100,
     "metadata": {},
     "output_type": "execute_result"
    }
   ],
   "source": [
    "df_pyspark.dtypes"
   ]
  },
  {
   "cell_type": "code",
   "execution_count": 101,
   "id": "0993b6f6",
   "metadata": {},
   "outputs": [
    {
     "data": {
      "text/plain": [
       "DataFrame[summary: string, Name: string, age: string, Experience: string, Salary: string]"
      ]
     },
     "execution_count": 101,
     "metadata": {},
     "output_type": "execute_result"
    }
   ],
   "source": [
    "df_pyspark.describe()"
   ]
  },
  {
   "cell_type": "code",
   "execution_count": 102,
   "id": "e94cc3c9",
   "metadata": {},
   "outputs": [
    {
     "name": "stdout",
     "output_type": "stream",
     "text": [
      "+-------+-------+------------------+-----------------+------------------+\n",
      "|summary|   Name|               age|       Experience|            Salary|\n",
      "+-------+-------+------------------+-----------------+------------------+\n",
      "|  count|      6|                 6|                6|                 6|\n",
      "|   mean|   null|26.333333333333332|4.666666666666667|21333.333333333332|\n",
      "| stddev|   null| 4.179314138308661|3.559026084010437| 5354.126134736337|\n",
      "|    min|  atefe|                21|                1|             15000|\n",
      "|    max|shabnam|                31|               10|             30000|\n",
      "+-------+-------+------------------+-----------------+------------------+\n",
      "\n"
     ]
    }
   ],
   "source": [
    "df_pyspark.describe().show()"
   ]
  },
  {
   "cell_type": "code",
   "execution_count": 103,
   "id": "9bc6908f",
   "metadata": {},
   "outputs": [],
   "source": [
    "#Adding Columns in data frame\n",
    "df_pyspark= df_pyspark.withColumn('Experience After 2 year',df_pyspark['Experience']+2)"
   ]
  },
  {
   "cell_type": "code",
   "execution_count": 104,
   "id": "6b989b7f",
   "metadata": {},
   "outputs": [
    {
     "name": "stdout",
     "output_type": "stream",
     "text": [
      "+-------+---+----------+------+-----------------------+\n",
      "|   Name|age|Experience|Salary|Experience After 2 year|\n",
      "+-------+---+----------+------+-----------------------+\n",
      "|  mahsa| 31|        10| 30000|                     12|\n",
      "|   sara| 30|         8| 25000|                     10|\n",
      "| hanieh| 29|         4| 20000|                      6|\n",
      "|  atefe| 24|         3| 20000|                      5|\n",
      "|shabnam| 21|         1| 15000|                      3|\n",
      "| bahare| 23|         2| 18000|                      4|\n",
      "+-------+---+----------+------+-----------------------+\n",
      "\n"
     ]
    }
   ],
   "source": [
    "df_pyspark.show()"
   ]
  },
  {
   "cell_type": "code",
   "execution_count": 105,
   "id": "677eb920",
   "metadata": {},
   "outputs": [],
   "source": [
    "#Drop the columns\n",
    "df_pyspark=df_pyspark.drop('Experience After 2 year')"
   ]
  },
  {
   "cell_type": "code",
   "execution_count": 106,
   "id": "01f83604",
   "metadata": {},
   "outputs": [
    {
     "name": "stdout",
     "output_type": "stream",
     "text": [
      "+-------+---+----------+------+\n",
      "|   Name|age|Experience|Salary|\n",
      "+-------+---+----------+------+\n",
      "|  mahsa| 31|        10| 30000|\n",
      "|   sara| 30|         8| 25000|\n",
      "| hanieh| 29|         4| 20000|\n",
      "|  atefe| 24|         3| 20000|\n",
      "|shabnam| 21|         1| 15000|\n",
      "| bahare| 23|         2| 18000|\n",
      "+-------+---+----------+------+\n",
      "\n"
     ]
    }
   ],
   "source": [
    "df_pyspark.show()"
   ]
  },
  {
   "cell_type": "code",
   "execution_count": 110,
   "id": "86747684",
   "metadata": {},
   "outputs": [
    {
     "name": "stdout",
     "output_type": "stream",
     "text": [
      "+--------+---+----------+------+\n",
      "|New Name|age|Experience|Salary|\n",
      "+--------+---+----------+------+\n",
      "|   mahsa| 31|        10| 30000|\n",
      "|    sara| 30|         8| 25000|\n",
      "|  hanieh| 29|         4| 20000|\n",
      "|   atefe| 24|         3| 20000|\n",
      "| shabnam| 21|         1| 15000|\n",
      "|  bahare| 23|         2| 18000|\n",
      "+--------+---+----------+------+\n",
      "\n"
     ]
    }
   ],
   "source": [
    "#Rename the columns\n",
    "df_pyspark=df_pyspark.withColumnRenamed('Name','New Name').show()"
   ]
  },
  {
   "cell_type": "code",
   "execution_count": null,
   "id": "1060882b",
   "metadata": {},
   "outputs": [],
   "source": []
  }
 ],
 "metadata": {
  "kernelspec": {
   "display_name": "Python 3 (ipykernel)",
   "language": "python",
   "name": "python3"
  },
  "language_info": {
   "codemirror_mode": {
    "name": "ipython",
    "version": 3
   },
   "file_extension": ".py",
   "mimetype": "text/x-python",
   "name": "python",
   "nbconvert_exporter": "python",
   "pygments_lexer": "ipython3",
   "version": "3.10.2"
  }
 },
 "nbformat": 4,
 "nbformat_minor": 5
}
